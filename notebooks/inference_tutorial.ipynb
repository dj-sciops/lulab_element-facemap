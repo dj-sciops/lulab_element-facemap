{
 "cells": [
  {
   "cell_type": "markdown",
   "metadata": {},
   "source": [
    "# DataJoint Elements for [Facemap](https://github.com/MouseLand/facemap) Pose Estimation\n",
    "\n",
    "#### Open-source data pipeline for orofacial movement tracking and pose estimation of distinct facial keypoints.\n",
    "\n",
    "Welcome to the tutorial for the DataJoint Element for pose estimation of distinct\n",
    "keypoints on the mouse face. This\n",
    "tutorial aims to provide a comprehensive understanding of the open-source data pipeline\n",
    "created using `element-facemap`'s pose estimation inference module.\n",
    "\n",
    "This package is designed to seamlessly process, ingest, and track facemap's pose\n",
    "estimation data, along with its associated video recording and model metadata. By the end of this\n",
    "tutorial you will have a clear grasp on setting up and integrating `element-facemap`\n",
    "into your specific research projects and lab. \n",
    "\n",
    "![flowchart](../images/diagram_flowchart.svg)\n",
    "\n",
    "### Prerequisites\n",
    "\n",
    "Please see the [datajoint tutorials GitHub\n",
    "repository](https://github.com/datajoint/datajoint-tutorials/tree/main) before\n",
    "proceeding.\n",
    "\n",
    "A basic understanding of the following DataJoint concepts will be beneficial to your\n",
    "understanding of this tutorial: \n",
    "1. The `Imported` and `Computed` tables types in `datajoint-python`.\n",
    "2. The functionality of the `.populate()` method. \n",
    "\n",
    "#### **Tutorial Overview**\n",
    "\n",
    "+ Setup\n",
    "+ *Activate* the DataJoint pipeline.\n",
    "+ *Insert* subject and session metadata.\n",
    "+ *Populate* video recording and models metadata.\n",
    "+ Run the pose estimation task.\n",
    "+ Visualize the results.\n",
    "\n",
    "### **Setup**\n",
    "\n",
    "This tutorial examines video data of .mp4 file format. The goal is to store, track and\n",
    "manage sessions of facial pose data, including determining coordinates of facial body\n",
    "parts and trajectory visualizations.\n",
    "\n",
    "The results of this Element can be combined with **other modalities** to create a complete,\n",
    "customizable data pipeline for your specific lab or study. For instance, you can combine\n",
    "`element-facemap` with `element-calcium-imaging` and `element-array-ephys` to relate orofacial\n",
    "behavior to neural activity.\n",
    "\n",
    "Let's start this tutorial by importing the packages necessary to run the notebook."
   ]
  },
  {
   "cell_type": "code",
   "execution_count": 1,
   "metadata": {},
   "outputs": [],
   "source": [
    "import datajoint as dj\n",
    "import datetime\n",
    "import matplotlib.pyplot as plt\n",
    "import pandas as pd\n",
    "import numpy as np\n",
    "\n",
    "from pathlib import Path"
   ]
  },
  {
   "cell_type": "markdown",
   "metadata": {},
   "source": [
    "If the tutorial is run in Codespaces, a private, local database server is created and\n",
    "made available for you. This is where we will insert and store our processed results.\n",
    "Let's connect to the database server."
   ]
  },
  {
   "cell_type": "code",
   "execution_count": 2,
   "metadata": {},
   "outputs": [
    {
     "name": "stderr",
     "output_type": "stream",
     "text": [
      "[2024-01-12 16:09:09,971][INFO]: Connecting root@fakeservices.datajoint.io:3306\n",
      "[2024-01-12 16:09:09,979][INFO]: Connected root@fakeservices.datajoint.io:3306\n"
     ]
    },
    {
     "data": {
      "text/plain": [
       "DataJoint connection (connected) root@fakeservices.datajoint.io:3306"
      ]
     },
     "execution_count": 2,
     "metadata": {},
     "output_type": "execute_result"
    }
   ],
   "source": [
    "dj.conn()"
   ]
  },
  {
   "cell_type": "markdown",
   "metadata": {},
   "source": [
    "### **Activate the DataJoint Pipeline**\n",
    "\n",
    "This tutorial activates the `facemap_inference.py` module from `element-facemap`, along\n",
    "with upstream dependencies from `element-animal` and `element-session`. Please refer to the\n",
    "[`tutorial_pipeline.py`](./tutorial_pipeline.py) for the source code."
   ]
  },
  {
   "cell_type": "code",
   "execution_count": 3,
   "metadata": {},
   "outputs": [
    {
     "name": "stderr",
     "output_type": "stream",
     "text": [
      "[2024-01-12 16:09:17,477][WARNING]: lab.Project and related tables will be removed in a future version of Element Lab. Please use the project schema.\n"
     ]
    }
   ],
   "source": [
    "from tutorial_pipeline import lab, subject, session, fbe, facemap_inference, Device"
   ]
  },
  {
   "cell_type": "markdown",
   "metadata": {},
   "source": [
    "We can represent the `fbe` (SVD-based facemap) and `facemap_inference` (pose-estimation\n",
    "on keypoints) schemas and their upstream dependencies, `session` and `subject` schemas\n",
    "as a diagram."
   ]
  },
  {
   "cell_type": "code",
   "execution_count": 4,
   "metadata": {},
   "outputs": [
    {
     "data": {
      "image/svg+xml": [
       "<svg xmlns=\"http://www.w3.org/2000/svg\" xmlns:xlink=\"http://www.w3.org/1999/xlink\" width=\"865pt\" height=\"373pt\" viewBox=\"0.00 0.00 865.00 373.00\">\n",
       "<g id=\"graph0\" class=\"graph\" transform=\"scale(1 1) rotate(0) translate(4 369)\">\n",
       "<title>%3</title>\n",
       "<polygon fill=\"white\" stroke=\"transparent\" points=\"-4,4 -4,-369 861,-369 861,4 -4,4\"/>\n",
       "<!-- facemap_inference.FacemapPoseEstimation -->\n",
       "<g id=\"node1\" class=\"node\">\n",
       "<title>facemap_inference.FacemapPoseEstimation</title>\n",
       "<g id=\"a_node1\"><a xlink:title=\"→ facemap_inference.FacemapPoseEstimationTask\r------------------------------\rpose_estimation_time \rpose_estimation_duration \rtotal_frame_count    \r\">\n",
       "<ellipse fill=\"#ff0000\" fill-opacity=\"0.125490\" stroke=\"#ff0000\" stroke-opacity=\"0.125490\" cx=\"498\" cy=\"-68\" rx=\"13\" ry=\"13\"/>\n",
       "<text text-anchor=\"middle\" x=\"498\" y=\"-64.9\" font-family=\"arial\" font-size=\"12.00\" fill=\"#7f0000\" fill-opacity=\"0.627451\">facemap_inference.FacemapPoseEstimation</text>\n",
       "</a>\n",
       "</g>\n",
       "</g>\n",
       "<!-- facemap_inference.FacemapPoseEstimation.BodyPartPosition -->\n",
       "<g id=\"node7\" class=\"node\">\n",
       "<title>facemap_inference.FacemapPoseEstimation.BodyPartPosition</title>\n",
       "<g id=\"a_node7\"><a xlink:title=\"→ facemap_inference.FacemapPoseEstimation\r→ facemap_inference.FacemapModel.BodyPart\r------------------------------\rx_pos                \ry_pos                \rlikelihood           \r\">\n",
       "<polygon fill=\"transparent\" stroke=\"transparent\" points=\"643,-19 353,-19 353,0 643,0 643,-19\"/>\n",
       "<text text-anchor=\"middle\" x=\"498\" y=\"-7\" font-family=\"arial\" font-size=\"10.00\">facemap_inference.FacemapPoseEstimation.BodyPartPosition</text>\n",
       "</a>\n",
       "</g>\n",
       "</g>\n",
       "<!-- facemap_inference.FacemapPoseEstimation&#45;&gt;facemap_inference.FacemapPoseEstimation.BodyPartPosition -->\n",
       "<g id=\"edge1\" class=\"edge\">\n",
       "<title>facemap_inference.FacemapPoseEstimation-&gt;facemap_inference.FacemapPoseEstimation.BodyPartPosition</title>\n",
       "<path fill=\"none\" stroke=\"#000000\" stroke-width=\"0.75\" stroke-opacity=\"0.250980\" d=\"M498,-54.74C498,-43.97 498,-28.56 498,-19.06\"/>\n",
       "</g>\n",
       "<!-- facemap_inference.FacemapModel.BodyPart -->\n",
       "<g id=\"node2\" class=\"node\">\n",
       "<title>facemap_inference.FacemapModel.BodyPart</title>\n",
       "<g id=\"a_node2\"><a xlink:title=\"→ facemap_inference.FacemapModel\r→ facemap_inference.BodyPart\r\">\n",
       "<polygon fill=\"transparent\" stroke=\"transparent\" points=\"212,-144 0,-144 0,-125 212,-125 212,-144\"/>\n",
       "<text text-anchor=\"middle\" x=\"106\" y=\"-132\" font-family=\"arial\" font-size=\"10.00\">facemap_inference.FacemapModel.BodyPart</text>\n",
       "</a>\n",
       "</g>\n",
       "</g>\n",
       "<!-- facemap_inference.FacemapModel.BodyPart&#45;&gt;facemap_inference.FacemapPoseEstimation.BodyPartPosition -->\n",
       "<g id=\"edge2\" class=\"edge\">\n",
       "<title>facemap_inference.FacemapModel.BodyPart-&gt;facemap_inference.FacemapPoseEstimation.BodyPartPosition</title>\n",
       "<path fill=\"none\" stroke=\"#000000\" stroke-width=\"0.75\" stroke-opacity=\"0.250980\" d=\"M133.25,-124.95C205.05,-102.42 398.78,-41.63 470.67,-19.08\"/>\n",
       "</g>\n",
       "<!-- facemap_inference.FacemapModel.File -->\n",
       "<g id=\"node3\" class=\"node\">\n",
       "<title>facemap_inference.FacemapModel.File</title>\n",
       "<g id=\"a_node3\"><a xlink:title=\"→ facemap_inference.FacemapModel\r------------------------------\rmodel_file           \r\">\n",
       "<polygon fill=\"transparent\" stroke=\"transparent\" points=\"418,-144 230,-144 230,-125 418,-125 418,-144\"/>\n",
       "<text text-anchor=\"middle\" x=\"324\" y=\"-132\" font-family=\"arial\" font-size=\"10.00\">facemap_inference.FacemapModel.File</text>\n",
       "</a>\n",
       "</g>\n",
       "</g>\n",
       "<!-- facemap_inference.FacemapPoseEstimationTask -->\n",
       "<g id=\"node4\" class=\"node\">\n",
       "<title>facemap_inference.FacemapPoseEstimationTask</title>\n",
       "<g id=\"a_node4\"><a xlink:title=\"→ fbe.VideoRecording\r→ facemap_inference.FacemapModel\r------------------------------\rpose_estimation_output_dir \rtask_description     \rtask_mode=&quot;trigger&quot;  \rbbox=null            \r\">\n",
       "<polygon fill=\"#00ff00\" fill-opacity=\"0.188235\" stroke=\"#00ff00\" stroke-opacity=\"0.188235\" points=\"717.5,-152 436.5,-152 436.5,-117 717.5,-117 717.5,-152\"/>\n",
       "<text text-anchor=\"middle\" x=\"577\" y=\"-131.4\" font-family=\"arial\" font-size=\"12.00\" fill=\"darkgreen\">facemap_inference.FacemapPoseEstimationTask</text>\n",
       "</a>\n",
       "</g>\n",
       "</g>\n",
       "<!-- facemap_inference.FacemapPoseEstimationTask&#45;&gt;facemap_inference.FacemapPoseEstimation -->\n",
       "<g id=\"edge3\" class=\"edge\">\n",
       "<title>facemap_inference.FacemapPoseEstimationTask-&gt;facemap_inference.FacemapPoseEstimation</title>\n",
       "<path fill=\"none\" stroke=\"#000000\" stroke-width=\"2\" stroke-opacity=\"0.250980\" d=\"M556.66,-116.89C540.93,-104.05 519.86,-86.85 507.72,-76.94\"/>\n",
       "</g>\n",
       "<!-- session.Session -->\n",
       "<g id=\"node5\" class=\"node\">\n",
       "<title>session.Session</title>\n",
       "<g id=\"a_node5\"><a xlink:title=\"→ subject.Subject\rsession_datetime     \r\">\n",
       "<polygon fill=\"#00ff00\" fill-opacity=\"0.188235\" stroke=\"#00ff00\" stroke-opacity=\"0.188235\" points=\"848,-294 744,-294 744,-259 848,-259 848,-294\"/>\n",
       "<text text-anchor=\"start\" x=\"752\" y=\"-274.4\" font-family=\"arial\" text-decoration=\"underline\" font-size=\"12.00\" fill=\"darkgreen\">session.Session</text>\n",
       "</a>\n",
       "</g>\n",
       "</g>\n",
       "<!-- fbe.VideoRecording -->\n",
       "<g id=\"node6\" class=\"node\">\n",
       "<title>fbe.VideoRecording</title>\n",
       "<g id=\"a_node6\"><a xlink:title=\"→ session.Session\rrecording_id         \r------------------------------\r→ Device\r\">\n",
       "<polygon fill=\"#00ff00\" fill-opacity=\"0.188235\" stroke=\"#00ff00\" stroke-opacity=\"0.188235\" points=\"857,-223 735,-223 735,-188 857,-188 857,-223\"/>\n",
       "<text text-anchor=\"start\" x=\"743\" y=\"-203.4\" font-family=\"arial\" text-decoration=\"underline\" font-size=\"12.00\" fill=\"darkgreen\">fbe.VideoRecording</text>\n",
       "</a>\n",
       "</g>\n",
       "</g>\n",
       "<!-- session.Session&#45;&gt;fbe.VideoRecording -->\n",
       "<g id=\"edge4\" class=\"edge\">\n",
       "<title>session.Session-&gt;fbe.VideoRecording</title>\n",
       "<path fill=\"none\" stroke=\"#000000\" stroke-width=\"0.75\" stroke-opacity=\"0.250980\" d=\"M796,-258.8C796,-247.95 796,-233.87 796,-223.05\"/>\n",
       "</g>\n",
       "<!-- fbe.VideoRecording&#45;&gt;facemap_inference.FacemapPoseEstimationTask -->\n",
       "<g id=\"edge5\" class=\"edge\">\n",
       "<title>fbe.VideoRecording-&gt;facemap_inference.FacemapPoseEstimationTask</title>\n",
       "<path fill=\"none\" stroke=\"#000000\" stroke-width=\"0.75\" stroke-opacity=\"0.250980\" d=\"M743.54,-187.97C709,-177.09 663.94,-162.89 629.41,-152.01\"/>\n",
       "</g>\n",
       "<!-- fbe.VideoRecording.File -->\n",
       "<g id=\"node10\" class=\"node\">\n",
       "<title>fbe.VideoRecording.File</title>\n",
       "<g id=\"a_node10\"><a xlink:title=\"→ fbe.VideoRecording\rfile_id              \r------------------------------\rfile_path            \r\">\n",
       "<polygon fill=\"transparent\" stroke=\"transparent\" points=\"856.5,-144 735.5,-144 735.5,-125 856.5,-125 856.5,-144\"/>\n",
       "<text text-anchor=\"start\" x=\"743.5\" y=\"-133\" font-family=\"arial\" text-decoration=\"underline\" font-size=\"10.00\">fbe.VideoRecording.File</text>\n",
       "</a>\n",
       "</g>\n",
       "</g>\n",
       "<!-- fbe.VideoRecording&#45;&gt;fbe.VideoRecording.File -->\n",
       "<g id=\"edge6\" class=\"edge\">\n",
       "<title>fbe.VideoRecording-&gt;fbe.VideoRecording.File</title>\n",
       "<path fill=\"none\" stroke=\"#000000\" stroke-width=\"0.75\" stroke-opacity=\"0.250980\" d=\"M796,-187.8C796,-174.08 796,-155.19 796,-144.27\"/>\n",
       "</g>\n",
       "<!-- subject.Subject -->\n",
       "<g id=\"node8\" class=\"node\">\n",
       "<title>subject.Subject</title>\n",
       "<g id=\"a_node8\"><a xlink:title=\"subject              \r------------------------------\rsubject_nickname=&quot;&quot;  \rsex                  \rsubject_birth_date   \rsubject_description=&quot;&quot; \r\">\n",
       "<polygon fill=\"#00ff00\" fill-opacity=\"0.188235\" stroke=\"#00ff00\" stroke-opacity=\"0.188235\" points=\"845,-365 747,-365 747,-330 845,-330 845,-365\"/>\n",
       "<text text-anchor=\"start\" x=\"755\" y=\"-345.4\" font-family=\"arial\" text-decoration=\"underline\" font-size=\"12.00\" fill=\"darkgreen\">subject.Subject</text>\n",
       "</a>\n",
       "</g>\n",
       "</g>\n",
       "<!-- subject.Subject&#45;&gt;session.Session -->\n",
       "<g id=\"edge7\" class=\"edge\">\n",
       "<title>subject.Subject-&gt;session.Session</title>\n",
       "<path fill=\"none\" stroke=\"#000000\" stroke-width=\"0.75\" stroke-opacity=\"0.250980\" d=\"M796,-329.8C796,-318.95 796,-304.87 796,-294.05\"/>\n",
       "</g>\n",
       "<!-- facemap_inference.BodyPart -->\n",
       "<g id=\"node9\" class=\"node\">\n",
       "<title>facemap_inference.BodyPart</title>\n",
       "<g id=\"a_node9\"><a xlink:title=\"body_part            \r------------------------------\rbody_part_description=&quot;&quot; \r\">\n",
       "<polygon fill=\"#000000\" fill-opacity=\"0.125490\" stroke=\"transparent\" points=\"177.5,-223 34.5,-223 34.5,-188 177.5,-188 177.5,-223\"/>\n",
       "<text text-anchor=\"start\" x=\"42.5\" y=\"-204\" font-family=\"arial\" text-decoration=\"underline\" font-size=\"10.00\">facemap_inference.BodyPart</text>\n",
       "</a>\n",
       "</g>\n",
       "</g>\n",
       "<!-- facemap_inference.BodyPart&#45;&gt;facemap_inference.FacemapModel.BodyPart -->\n",
       "<g id=\"edge8\" class=\"edge\">\n",
       "<title>facemap_inference.BodyPart-&gt;facemap_inference.FacemapModel.BodyPart</title>\n",
       "<path fill=\"none\" stroke=\"#000000\" stroke-width=\"0.75\" stroke-opacity=\"0.250980\" d=\"M106,-187.8C106,-174.08 106,-155.19 106,-144.27\"/>\n",
       "</g>\n",
       "<!-- facemap_inference.FacemapModel -->\n",
       "<g id=\"node11\" class=\"node\">\n",
       "<title>facemap_inference.FacemapModel</title>\n",
       "<g id=\"a_node11\"><a xlink:title=\"model_id             \r------------------------------\rmodel_name           \rmodel_description=&quot;&quot; \r\">\n",
       "<polygon fill=\"#00ff00\" fill-opacity=\"0.188235\" stroke=\"#00ff00\" stroke-opacity=\"0.188235\" points=\"426.5,-223 221.5,-223 221.5,-188 426.5,-188 426.5,-223\"/>\n",
       "<text text-anchor=\"start\" x=\"229.5\" y=\"-203.4\" font-family=\"arial\" text-decoration=\"underline\" font-size=\"12.00\" fill=\"darkgreen\">facemap_inference.FacemapModel</text>\n",
       "</a>\n",
       "</g>\n",
       "</g>\n",
       "<!-- facemap_inference.FacemapModel&#45;&gt;facemap_inference.FacemapModel.BodyPart -->\n",
       "<g id=\"edge9\" class=\"edge\">\n",
       "<title>facemap_inference.FacemapModel-&gt;facemap_inference.FacemapModel.BodyPart</title>\n",
       "<path fill=\"none\" stroke=\"#000000\" stroke-width=\"0.75\" stroke-opacity=\"0.250980\" d=\"M271.78,-187.97C228.07,-174.14 167.46,-154.95 132.94,-144.03\"/>\n",
       "</g>\n",
       "<!-- facemap_inference.FacemapModel&#45;&gt;facemap_inference.FacemapModel.File -->\n",
       "<g id=\"edge10\" class=\"edge\">\n",
       "<title>facemap_inference.FacemapModel-&gt;facemap_inference.FacemapModel.File</title>\n",
       "<path fill=\"none\" stroke=\"#000000\" stroke-width=\"2\" stroke-opacity=\"0.250980\" d=\"M324,-187.8C324,-174.08 324,-155.19 324,-144.27\"/>\n",
       "</g>\n",
       "<!-- facemap_inference.FacemapModel&#45;&gt;facemap_inference.FacemapPoseEstimationTask -->\n",
       "<g id=\"edge11\" class=\"edge\">\n",
       "<title>facemap_inference.FacemapModel-&gt;facemap_inference.FacemapPoseEstimationTask</title>\n",
       "<path fill=\"none\" stroke=\"#000000\" stroke-width=\"0.75\" stroke-opacity=\"0.250980\" d=\"M384.6,-187.97C424.51,-177.09 476.56,-162.89 516.46,-152.01\"/>\n",
       "</g>\n",
       "</g>\n",
       "</svg>"
      ],
      "text/plain": [
       "<datajoint.diagram.Diagram at 0x7ff360f67280>"
      ]
     },
     "execution_count": 4,
     "metadata": {},
     "output_type": "execute_result"
    }
   ],
   "source": [
    "(\n",
    "    dj.Diagram(subject.Subject)\n",
    "    + dj.Diagram(session.Session)\n",
    "    + dj.Diagram(fbe.VideoRecording)\n",
    "    + dj.Diagram(fbe.VideoRecording.File)\n",
    "    + dj.Diagram(facemap_inference)\n",
    ")"
   ]
  },
  {
   "cell_type": "markdown",
   "metadata": {},
   "source": [
    "As evident from the diagram, this data pipeline encompasses tables associated with\n",
    "model and video file data, task generation and results of model inference. A few tables, such as `subject.Subject` or `session.Session`,\n",
    "while important for a complete pipeline, fall outside the scope of the `element-facemap`\n",
    "tutorial, and will therefore, not be explored extensively here. The primary focus of\n",
    "this tutorial will be on the `facemap_inference` schema.\n",
    "\n",
    "### **Insert subject, session, and probe metadata**\n",
    "\n",
    "Let's start with the first table in the schema diagram (i.e. `subject.Subject` table).\n",
    "\n",
    "To know what data to insert into the table, we can view its dependencies and attributes using the `.describe()` and `.heading` methods."
   ]
  },
  {
   "cell_type": "code",
   "execution_count": 5,
   "metadata": {},
   "outputs": [
    {
     "data": {
      "text/html": [
       "\n",
       "    \n",
       "    <style type=\"text/css\">\n",
       "        .Table{\n",
       "            border-collapse:collapse;\n",
       "        }\n",
       "        .Table th{\n",
       "            background: #A0A0A0; color: #ffffff; padding:4px; border:#f0e0e0 1px solid;\n",
       "            font-weight: normal; font-family: monospace; font-size: 100%;\n",
       "        }\n",
       "        .Table td{\n",
       "            padding:4px; border:#f0e0e0 1px solid; font-size:100%;\n",
       "        }\n",
       "        .Table tr:nth-child(odd){\n",
       "            background: #ffffff;\n",
       "            color: #000000;\n",
       "        }\n",
       "        .Table tr:nth-child(even){\n",
       "            background: #f3f1ff;\n",
       "            color: #000000;\n",
       "        }\n",
       "        /* Tooltip container */\n",
       "        .djtooltip {\n",
       "        }\n",
       "        /* Tooltip text */\n",
       "        .djtooltip .djtooltiptext {\n",
       "            visibility: hidden;\n",
       "            width: 120px;\n",
       "            background-color: black;\n",
       "            color: #fff;\n",
       "            text-align: center;\n",
       "            padding: 5px 0;\n",
       "            border-radius: 6px;\n",
       "            /* Position the tooltip text - see examples below! */\n",
       "            position: absolute;\n",
       "            z-index: 1;\n",
       "        }\n",
       "        #primary {\n",
       "            font-weight: bold;\n",
       "            color: black;\n",
       "        }\n",
       "        #nonprimary {\n",
       "            font-weight: normal;\n",
       "            color: white;\n",
       "        }\n",
       "\n",
       "        /* Show the tooltip text when you mouse over the tooltip container */\n",
       "        .djtooltip:hover .djtooltiptext {\n",
       "            visibility: visible;\n",
       "        }\n",
       "    </style>\n",
       "    \n",
       "    <b></b>\n",
       "        <div style=\"max-height:1000px;max-width:1500px;overflow:auto;\">\n",
       "        <table border=\"1\" class=\"Table\">\n",
       "            <thead> <tr style=\"text-align: right;\"> <th> <div class=\"djtooltip\">\n",
       "                            <p id=\"primary\">subject</p>\n",
       "                            <span class=\"djtooltiptext\"></span>\n",
       "                        </div></th><th><div class=\"djtooltip\">\n",
       "                            <p id=\"nonprimary\">subject_nickname</p>\n",
       "                            <span class=\"djtooltiptext\"></span>\n",
       "                        </div></th><th><div class=\"djtooltip\">\n",
       "                            <p id=\"nonprimary\">sex</p>\n",
       "                            <span class=\"djtooltiptext\"></span>\n",
       "                        </div></th><th><div class=\"djtooltip\">\n",
       "                            <p id=\"nonprimary\">subject_birth_date</p>\n",
       "                            <span class=\"djtooltiptext\"></span>\n",
       "                        </div></th><th><div class=\"djtooltip\">\n",
       "                            <p id=\"nonprimary\">subject_description</p>\n",
       "                            <span class=\"djtooltiptext\"></span>\n",
       "                        </div> </th> </tr> </thead>\n",
       "            <tbody> <tr>  </tr> </tbody>\n",
       "        </table>\n",
       "        \n",
       "        <p>Total: 0</p></div>\n",
       "        "
      ],
      "text/plain": [
       "*subject    subject_nickna sex     subject_birth_ subject_descri\n",
       "+---------+ +------------+ +-----+ +------------+ +------------+\n",
       "\n",
       " (Total: 0)"
      ]
     },
     "execution_count": 5,
     "metadata": {},
     "output_type": "execute_result"
    }
   ],
   "source": [
    "subject.Subject()"
   ]
  },
  {
   "cell_type": "code",
   "execution_count": 6,
   "metadata": {},
   "outputs": [
    {
     "name": "stdout",
     "output_type": "stream",
     "text": [
      "subject              : varchar(8)                   \n",
      "---\n",
      "subject_nickname=\"\"  : varchar(64)                  \n",
      "sex                  : enum('M','F','U')            \n",
      "subject_birth_date   : date                         \n",
      "subject_description=\"\" : varchar(1024)                \n",
      "\n"
     ]
    }
   ],
   "source": [
    "print(subject.Subject.describe())"
   ]
  },
  {
   "cell_type": "code",
   "execution_count": 7,
   "metadata": {},
   "outputs": [
    {
     "data": {
      "text/plain": [
       "# \n",
       "subject              : varchar(8)                   # \n",
       "---\n",
       "subject_nickname=\"\"  : varchar(64)                  # \n",
       "sex                  : enum('M','F','U')            # \n",
       "subject_birth_date   : date                         # \n",
       "subject_description=\"\" : varchar(1024)                # "
      ]
     },
     "execution_count": 7,
     "metadata": {},
     "output_type": "execute_result"
    }
   ],
   "source": [
    "subject.Subject.heading"
   ]
  },
  {
   "cell_type": "markdown",
   "metadata": {},
   "source": [
    "The cells above show all attributes of the subject table.\n",
    "We will insert data into the\n",
    "`subject.Subject` table. "
   ]
  },
  {
   "cell_type": "code",
   "execution_count": 8,
   "metadata": {},
   "outputs": [
    {
     "data": {
      "text/html": [
       "\n",
       "    \n",
       "    <style type=\"text/css\">\n",
       "        .Table{\n",
       "            border-collapse:collapse;\n",
       "        }\n",
       "        .Table th{\n",
       "            background: #A0A0A0; color: #ffffff; padding:4px; border:#f0e0e0 1px solid;\n",
       "            font-weight: normal; font-family: monospace; font-size: 100%;\n",
       "        }\n",
       "        .Table td{\n",
       "            padding:4px; border:#f0e0e0 1px solid; font-size:100%;\n",
       "        }\n",
       "        .Table tr:nth-child(odd){\n",
       "            background: #ffffff;\n",
       "            color: #000000;\n",
       "        }\n",
       "        .Table tr:nth-child(even){\n",
       "            background: #f3f1ff;\n",
       "            color: #000000;\n",
       "        }\n",
       "        /* Tooltip container */\n",
       "        .djtooltip {\n",
       "        }\n",
       "        /* Tooltip text */\n",
       "        .djtooltip .djtooltiptext {\n",
       "            visibility: hidden;\n",
       "            width: 120px;\n",
       "            background-color: black;\n",
       "            color: #fff;\n",
       "            text-align: center;\n",
       "            padding: 5px 0;\n",
       "            border-radius: 6px;\n",
       "            /* Position the tooltip text - see examples below! */\n",
       "            position: absolute;\n",
       "            z-index: 1;\n",
       "        }\n",
       "        #primary {\n",
       "            font-weight: bold;\n",
       "            color: black;\n",
       "        }\n",
       "        #nonprimary {\n",
       "            font-weight: normal;\n",
       "            color: white;\n",
       "        }\n",
       "\n",
       "        /* Show the tooltip text when you mouse over the tooltip container */\n",
       "        .djtooltip:hover .djtooltiptext {\n",
       "            visibility: visible;\n",
       "        }\n",
       "    </style>\n",
       "    \n",
       "    <b></b>\n",
       "        <div style=\"max-height:1000px;max-width:1500px;overflow:auto;\">\n",
       "        <table border=\"1\" class=\"Table\">\n",
       "            <thead> <tr style=\"text-align: right;\"> <th> <div class=\"djtooltip\">\n",
       "                            <p id=\"primary\">subject</p>\n",
       "                            <span class=\"djtooltiptext\"></span>\n",
       "                        </div></th><th><div class=\"djtooltip\">\n",
       "                            <p id=\"nonprimary\">subject_nickname</p>\n",
       "                            <span class=\"djtooltiptext\"></span>\n",
       "                        </div></th><th><div class=\"djtooltip\">\n",
       "                            <p id=\"nonprimary\">sex</p>\n",
       "                            <span class=\"djtooltiptext\"></span>\n",
       "                        </div></th><th><div class=\"djtooltip\">\n",
       "                            <p id=\"nonprimary\">subject_birth_date</p>\n",
       "                            <span class=\"djtooltiptext\"></span>\n",
       "                        </div></th><th><div class=\"djtooltip\">\n",
       "                            <p id=\"nonprimary\">subject_description</p>\n",
       "                            <span class=\"djtooltiptext\"></span>\n",
       "                        </div> </th> </tr> </thead>\n",
       "            <tbody> <tr> <td>subject1</td>\n",
       "<td></td>\n",
       "<td>U</td>\n",
       "<td>2020-01-01</td>\n",
       "<td>Subject for Facemap Pose estimation processing.</td> </tr> </tbody>\n",
       "        </table>\n",
       "        \n",
       "        <p>Total: 1</p></div>\n",
       "        "
      ],
      "text/plain": [
       "*subject     subject_nickna sex     subject_birth_ subject_descri\n",
       "+----------+ +------------+ +-----+ +------------+ +------------+\n",
       "subject1                    U       2020-01-01     Subject for Fa\n",
       " (Total: 1)"
      ]
     },
     "execution_count": 8,
     "metadata": {},
     "output_type": "execute_result"
    }
   ],
   "source": [
    "subject.Subject.insert1(\n",
    "    dict(\n",
    "        subject=\"subject1\",\n",
    "        sex=\"U\",\n",
    "        subject_birth_date=\"2020-01-01\",\n",
    "        subject_description=\"Subject for Facemap Pose estimation processing.\",\n",
    "    )\n",
    ")\n",
    "subject.Subject()"
   ]
  },
  {
   "cell_type": "markdown",
   "metadata": {},
   "source": [
    "Let's repeat the steps above for the `Session` table and see how the output varies\n",
    "between `.describe` and `.heading`."
   ]
  },
  {
   "cell_type": "code",
   "execution_count": 9,
   "metadata": {},
   "outputs": [
    {
     "name": "stdout",
     "output_type": "stream",
     "text": [
      "-> subject.Subject\n",
      "session_datetime     : datetime                     \n",
      "\n"
     ]
    }
   ],
   "source": [
    "print(session.Session.describe())"
   ]
  },
  {
   "cell_type": "code",
   "execution_count": 10,
   "metadata": {},
   "outputs": [
    {
     "data": {
      "text/plain": [
       "# \n",
       "subject              : varchar(8)                   # \n",
       "session_datetime     : datetime                     # "
      ]
     },
     "execution_count": 10,
     "metadata": {},
     "output_type": "execute_result"
    }
   ],
   "source": [
    "session.Session.heading"
   ]
  },
  {
   "cell_type": "markdown",
   "metadata": {},
   "source": [
    "Notice that `describe`, displays the table's structure and highlights its dependencies, such as its reliance on the `Subject` table. These dependencies represent foreign key references, linking data across tables.\n",
    "\n",
    "On the other hand, `heading` provides an exhaustive list of the table's attributes. This\n",
    "list includes both the attributes declared in this table and any inherited from upstream\n",
    "tables.\n",
    "\n",
    "With this understanding, let's move on to insert a session associated with our subject.\n",
    "\n",
    "We will insert into the `session.Session` table by passing a dictionary to the `insert1` method."
   ]
  },
  {
   "cell_type": "code",
   "execution_count": 11,
   "metadata": {},
   "outputs": [],
   "source": [
    "session_key = dict(subject=\"subject1\", session_datetime=\"2021-04-30 12:22:15\")"
   ]
  },
  {
   "cell_type": "code",
   "execution_count": 12,
   "metadata": {},
   "outputs": [
    {
     "data": {
      "text/html": [
       "\n",
       "    \n",
       "    <style type=\"text/css\">\n",
       "        .Table{\n",
       "            border-collapse:collapse;\n",
       "        }\n",
       "        .Table th{\n",
       "            background: #A0A0A0; color: #ffffff; padding:4px; border:#f0e0e0 1px solid;\n",
       "            font-weight: normal; font-family: monospace; font-size: 100%;\n",
       "        }\n",
       "        .Table td{\n",
       "            padding:4px; border:#f0e0e0 1px solid; font-size:100%;\n",
       "        }\n",
       "        .Table tr:nth-child(odd){\n",
       "            background: #ffffff;\n",
       "            color: #000000;\n",
       "        }\n",
       "        .Table tr:nth-child(even){\n",
       "            background: #f3f1ff;\n",
       "            color: #000000;\n",
       "        }\n",
       "        /* Tooltip container */\n",
       "        .djtooltip {\n",
       "        }\n",
       "        /* Tooltip text */\n",
       "        .djtooltip .djtooltiptext {\n",
       "            visibility: hidden;\n",
       "            width: 120px;\n",
       "            background-color: black;\n",
       "            color: #fff;\n",
       "            text-align: center;\n",
       "            padding: 5px 0;\n",
       "            border-radius: 6px;\n",
       "            /* Position the tooltip text - see examples below! */\n",
       "            position: absolute;\n",
       "            z-index: 1;\n",
       "        }\n",
       "        #primary {\n",
       "            font-weight: bold;\n",
       "            color: black;\n",
       "        }\n",
       "        #nonprimary {\n",
       "            font-weight: normal;\n",
       "            color: white;\n",
       "        }\n",
       "\n",
       "        /* Show the tooltip text when you mouse over the tooltip container */\n",
       "        .djtooltip:hover .djtooltiptext {\n",
       "            visibility: visible;\n",
       "        }\n",
       "    </style>\n",
       "    \n",
       "    <b></b>\n",
       "        <div style=\"max-height:1000px;max-width:1500px;overflow:auto;\">\n",
       "        <table border=\"1\" class=\"Table\">\n",
       "            <thead> <tr style=\"text-align: right;\"> <th> <div class=\"djtooltip\">\n",
       "                            <p id=\"primary\">subject</p>\n",
       "                            <span class=\"djtooltiptext\"></span>\n",
       "                        </div></th><th><div class=\"djtooltip\">\n",
       "                            <p id=\"primary\">session_datetime</p>\n",
       "                            <span class=\"djtooltiptext\"></span>\n",
       "                        </div> </th> </tr> </thead>\n",
       "            <tbody> <tr> <td>subject1</td>\n",
       "<td>2021-04-30 12:22:15</td> </tr> </tbody>\n",
       "        </table>\n",
       "        \n",
       "        <p>Total: 1</p></div>\n",
       "        "
      ],
      "text/plain": [
       "*subject     *session_datet\n",
       "+----------+ +------------+\n",
       "subject1     2021-04-30 12:\n",
       " (Total: 1)"
      ]
     },
     "execution_count": 12,
     "metadata": {},
     "output_type": "execute_result"
    }
   ],
   "source": [
    "session.Session.insert1(session_key)\n",
    "session.Session()"
   ]
  },
  {
   "cell_type": "markdown",
   "metadata": {},
   "source": [
    "Every experimental session produces a set of data files. The purpose of the `SessionDirectory` table is to locate these files. It references a directory path relative to a root directory, defined in `dj.config[\"custom\"]`. More information about `dj.config` is provided in the [documentation](https://datajoint.com/docs/elements/user-guide/)."
   ]
  },
  {
   "cell_type": "code",
   "execution_count": 13,
   "metadata": {},
   "outputs": [
    {
     "data": {
      "text/html": [
       "\n",
       "    \n",
       "    <style type=\"text/css\">\n",
       "        .Table{\n",
       "            border-collapse:collapse;\n",
       "        }\n",
       "        .Table th{\n",
       "            background: #A0A0A0; color: #ffffff; padding:4px; border:#f0e0e0 1px solid;\n",
       "            font-weight: normal; font-family: monospace; font-size: 100%;\n",
       "        }\n",
       "        .Table td{\n",
       "            padding:4px; border:#f0e0e0 1px solid; font-size:100%;\n",
       "        }\n",
       "        .Table tr:nth-child(odd){\n",
       "            background: #ffffff;\n",
       "            color: #000000;\n",
       "        }\n",
       "        .Table tr:nth-child(even){\n",
       "            background: #f3f1ff;\n",
       "            color: #000000;\n",
       "        }\n",
       "        /* Tooltip container */\n",
       "        .djtooltip {\n",
       "        }\n",
       "        /* Tooltip text */\n",
       "        .djtooltip .djtooltiptext {\n",
       "            visibility: hidden;\n",
       "            width: 120px;\n",
       "            background-color: black;\n",
       "            color: #fff;\n",
       "            text-align: center;\n",
       "            padding: 5px 0;\n",
       "            border-radius: 6px;\n",
       "            /* Position the tooltip text - see examples below! */\n",
       "            position: absolute;\n",
       "            z-index: 1;\n",
       "        }\n",
       "        #primary {\n",
       "            font-weight: bold;\n",
       "            color: black;\n",
       "        }\n",
       "        #nonprimary {\n",
       "            font-weight: normal;\n",
       "            color: white;\n",
       "        }\n",
       "\n",
       "        /* Show the tooltip text when you mouse over the tooltip container */\n",
       "        .djtooltip:hover .djtooltiptext {\n",
       "            visibility: visible;\n",
       "        }\n",
       "    </style>\n",
       "    \n",
       "    <b></b>\n",
       "        <div style=\"max-height:1000px;max-width:1500px;overflow:auto;\">\n",
       "        <table border=\"1\" class=\"Table\">\n",
       "            <thead> <tr style=\"text-align: right;\"> <th> <div class=\"djtooltip\">\n",
       "                            <p id=\"primary\">subject</p>\n",
       "                            <span class=\"djtooltiptext\"></span>\n",
       "                        </div></th><th><div class=\"djtooltip\">\n",
       "                            <p id=\"primary\">session_datetime</p>\n",
       "                            <span class=\"djtooltiptext\"></span>\n",
       "                        </div></th><th><div class=\"djtooltip\">\n",
       "                            <p id=\"nonprimary\">session_dir</p>\n",
       "                            <span class=\"djtooltiptext\">Path to the data directory for a session</span>\n",
       "                        </div> </th> </tr> </thead>\n",
       "            <tbody> <tr> <td>subject1</td>\n",
       "<td>2021-04-30 12:22:15</td>\n",
       "<td>subject1/session1</td> </tr> </tbody>\n",
       "        </table>\n",
       "        \n",
       "        <p>Total: 1</p></div>\n",
       "        "
      ],
      "text/plain": [
       "*subject     *session_datet session_dir   \n",
       "+----------+ +------------+ +------------+\n",
       "subject1     2021-04-30 12: subject1/sessi\n",
       " (Total: 1)"
      ]
     },
     "execution_count": 13,
     "metadata": {},
     "output_type": "execute_result"
    }
   ],
   "source": [
    "session.SessionDirectory.insert1(dict(**session_key, session_dir=\"subject1/session1\"))\n",
    "session.SessionDirectory()"
   ]
  },
  {
   "cell_type": "markdown",
   "metadata": {},
   "source": [
    "As the Diagram indicates, both `fbe.VideoRecording` and `facemap_inference.FacemapModel` tables require entries before other downstream tables can receive data. \n",
    "\n",
    "Since our analysis relies on video data, let's start by viewing the `fbe.VideoRecording` table and it's part table `fbe.VideoRecording.File` and inserting into each."
   ]
  },
  {
   "cell_type": "code",
   "execution_count": 18,
   "metadata": {},
   "outputs": [
    {
     "name": "stdout",
     "output_type": "stream",
     "text": [
      "-> session.Session\n",
      "recording_id         : int                          \n",
      "---\n",
      "-> Device\n",
      "\n"
     ]
    }
   ],
   "source": [
    "print(fbe.VideoRecording.describe())"
   ]
  },
  {
   "cell_type": "code",
   "execution_count": 19,
   "metadata": {},
   "outputs": [
    {
     "data": {
      "text/plain": [
       "# \n",
       "subject              : varchar(8)                   # \n",
       "session_datetime     : datetime                     # \n",
       "recording_id         : int                          # \n",
       "---\n",
       "device               : varchar(32)                  # "
      ]
     },
     "execution_count": 19,
     "metadata": {},
     "output_type": "execute_result"
    }
   ],
   "source": [
    "fbe.VideoRecording.heading"
   ]
  },
  {
   "cell_type": "markdown",
   "metadata": {},
   "source": [
    "As shown by `.describe()`, `fbe.VideoRecording` has the primary key from `Device` as a non-primary. Let's insert into `Device` before continuing."
   ]
  },
  {
   "cell_type": "code",
   "execution_count": 20,
   "metadata": {},
   "outputs": [
    {
     "name": "stdout",
     "output_type": "stream",
     "text": [
      "device               : varchar(32)                  \n",
      "---\n",
      "modality             : varchar(64)                  \n",
      "description=\"\"       : varchar(256)                 \n",
      "\n"
     ]
    }
   ],
   "source": [
    "print(Device.describe())"
   ]
  },
  {
   "cell_type": "code",
   "execution_count": 21,
   "metadata": {},
   "outputs": [],
   "source": [
    "Device.insert1(\n",
    "    dict(\n",
    "        device=\"camera1\",\n",
    "        modality=\"facemap\",\n",
    "    )\n",
    ")"
   ]
  },
  {
   "cell_type": "markdown",
   "metadata": {},
   "source": [
    "Now we can insert into `VideoRecording`."
   ]
  },
  {
   "cell_type": "code",
   "execution_count": 30,
   "metadata": {},
   "outputs": [],
   "source": [
    "fbe.VideoRecording.insert1(\n",
    "    dict(\n",
    "        **session_key,\n",
    "        recording_id=0,\n",
    "        device=\"camera1\"\n",
    "    )\n",
    ")\n",
    "\n",
    "fbe.VideoRecording.File.insert1(\n",
    "    dict(\n",
    "        **session_key,\n",
    "        recording_id=0,\n",
    "        file_id=0,\n",
    "        file_path=\"inbox/subject0/session0/cam1_G7c1_1.avi\"\n",
    "    )\n",
    ")"
   ]
  },
  {
   "cell_type": "markdown",
   "metadata": {},
   "source": [
    "Next, we will insert a local pytorch model file into the `facemap_inference.FacemapModel` table. This table requires the following:\n",
    "- Specify a unique `model_id`, a `model_description`, and the `full_local_model_filepath`\n",
    "\n",
    "Note: *when running locally, the default facemap model is located in the hidden `.facemap` folder installed to your computer's home directory: `i.e. ~/.facemap/models/facemap_model_state.pt`*"
   ]
  },
  {
   "cell_type": "code",
   "execution_count": 14,
   "metadata": {},
   "outputs": [],
   "source": [
    "facemap_inference.FacemapModel.insert_new_model(\n",
    "    model_name=\"facemap_model_state.pt\",\n",
    "    model_id=0,\n",
    "    model_description=\"Default facemap model\",\n",
    "    full_model_path=\"workspace/element-facemap/example_data/inbox/facemap_models/default_facemap_model.pt\",\n",
    ")"
   ]
  },
  {
   "cell_type": "markdown",
   "metadata": {},
   "source": [
    "Let's display the `facemap_inference.FacemapModel` table to verify insertion"
   ]
  },
  {
   "cell_type": "code",
   "execution_count": 15,
   "metadata": {},
   "outputs": [
    {
     "data": {
      "text/html": [
       "\n",
       "    \n",
       "    <style type=\"text/css\">\n",
       "        .Table{\n",
       "            border-collapse:collapse;\n",
       "        }\n",
       "        .Table th{\n",
       "            background: #A0A0A0; color: #ffffff; padding:4px; border:#f0e0e0 1px solid;\n",
       "            font-weight: normal; font-family: monospace; font-size: 100%;\n",
       "        }\n",
       "        .Table td{\n",
       "            padding:4px; border:#f0e0e0 1px solid; font-size:100%;\n",
       "        }\n",
       "        .Table tr:nth-child(odd){\n",
       "            background: #ffffff;\n",
       "            color: #000000;\n",
       "        }\n",
       "        .Table tr:nth-child(even){\n",
       "            background: #f3f1ff;\n",
       "            color: #000000;\n",
       "        }\n",
       "        /* Tooltip container */\n",
       "        .djtooltip {\n",
       "        }\n",
       "        /* Tooltip text */\n",
       "        .djtooltip .djtooltiptext {\n",
       "            visibility: hidden;\n",
       "            width: 120px;\n",
       "            background-color: black;\n",
       "            color: #fff;\n",
       "            text-align: center;\n",
       "            padding: 5px 0;\n",
       "            border-radius: 6px;\n",
       "            /* Position the tooltip text - see examples below! */\n",
       "            position: absolute;\n",
       "            z-index: 1;\n",
       "        }\n",
       "        #primary {\n",
       "            font-weight: bold;\n",
       "            color: black;\n",
       "        }\n",
       "        #nonprimary {\n",
       "            font-weight: normal;\n",
       "            color: white;\n",
       "        }\n",
       "\n",
       "        /* Show the tooltip text when you mouse over the tooltip container */\n",
       "        .djtooltip:hover .djtooltiptext {\n",
       "            visibility: visible;\n",
       "        }\n",
       "    </style>\n",
       "    \n",
       "    <b></b>\n",
       "        <div style=\"max-height:1000px;max-width:1500px;overflow:auto;\">\n",
       "        <table border=\"1\" class=\"Table\">\n",
       "            <thead> <tr style=\"text-align: right;\"> <th> <div class=\"djtooltip\">\n",
       "                            <p id=\"primary\">model_id</p>\n",
       "                            <span class=\"djtooltiptext\">user assigned ID associated with a unique model</span>\n",
       "                        </div></th><th><div class=\"djtooltip\">\n",
       "                            <p id=\"nonprimary\">model_name</p>\n",
       "                            <span class=\"djtooltiptext\">name of model</span>\n",
       "                        </div></th><th><div class=\"djtooltip\">\n",
       "                            <p id=\"nonprimary\">model_description</p>\n",
       "                            <span class=\"djtooltiptext\">optional model description</span>\n",
       "                        </div> </th> </tr> </thead>\n",
       "            <tbody> <tr> <td>0</td>\n",
       "<td>facemap_model_state.pt</td>\n",
       "<td>Default facemap model</td> </tr> </tbody>\n",
       "        </table>\n",
       "        \n",
       "        <p>Total: 1</p></div>\n",
       "        "
      ],
      "text/plain": [
       "*model_id    model_name     model_descript\n",
       "+----------+ +------------+ +------------+\n",
       "0            facemap_model_ Default facema\n",
       " (Total: 1)"
      ]
     },
     "execution_count": 15,
     "metadata": {},
     "output_type": "execute_result"
    }
   ],
   "source": [
    "facemap_inference.FacemapModel()"
   ]
  },
  {
   "cell_type": "markdown",
   "metadata": {},
   "source": [
    "### **Run the Pose Estimation Task**\n",
    "\n",
    "We're almost ready to perform pose estimation using facemap. An important step before running the pose estimation is picking which model will be used in the analysis and the video recordings on which pose estimation is performed. The `facemap_inference.FacemapPoseEstimationTask` table manages this step."
   ]
  },
  {
   "cell_type": "code",
   "execution_count": 31,
   "metadata": {},
   "outputs": [
    {
     "name": "stdout",
     "output_type": "stream",
     "text": [
      "# Staging table for pairing of recording and Facemap parameters before processing.\n",
      "-> fbe.VideoRecording\n",
      "-> facemap_inference.FacemapModel\n",
      "---\n",
      "pose_estimation_output_dir : varchar(255)                 # output dir - stores results of Facemap Pose estimation analysis\n",
      "task_description     : varchar(128)                 # Optional. Addtional task description\n",
      "task_mode=\"trigger\"  : enum('load','trigger')       \n",
      "bbox=null            : longblob                     # list containing bounding box for cropping the video [x1, x2, y1, y2]\n",
      "\n"
     ]
    }
   ],
   "source": [
    "print(facemap_inference.FacemapPoseEstimationTask.describe())"
   ]
  },
  {
   "cell_type": "code",
   "execution_count": 32,
   "metadata": {},
   "outputs": [
    {
     "data": {
      "text/plain": [
       "# Staging table for pairing of recording and Facemap parameters before processing.\n",
       "subject              : varchar(8)                   # \n",
       "session_datetime     : datetime                     # \n",
       "recording_id         : int                          # \n",
       "model_id             : int                          # user assigned ID associated with a unique model\n",
       "---\n",
       "pose_estimation_output_dir : varchar(255)                 # output dir - stores results of Facemap Pose estimation analysis\n",
       "task_description     : varchar(128)                 # Optional. Addtional task description\n",
       "task_mode=\"trigger\"  : enum('load','trigger')       # \n",
       "bbox=null            : longblob                     # list containing bounding box for cropping the video [x1, x2, y1, y2]"
      ]
     },
     "execution_count": 32,
     "metadata": {},
     "output_type": "execute_result"
    }
   ],
   "source": [
    "facemap_inference.FacemapPoseEstimationTask.heading"
   ]
  },
  {
   "cell_type": "code",
   "execution_count": 39,
   "metadata": {},
   "outputs": [],
   "source": [
    "facemap_inference.FacemapPoseEstimationTask.insert1(\n",
    "    dict(\n",
    "    **session_key,\n",
    "    model_id=0,\n",
    "    recording_id=0,\n",
    "    pose_estimation_output_dir=\"outbox/subject0/session0/facemap_recordingid0_model1\",\n",
    "    task_mode=\"load\",\n",
    "    task_description=\"Facemap Inference Task, loads processed results\",\n",
    "    )\n",
    ")"
   ]
  },
  {
   "cell_type": "markdown",
   "metadata": {},
   "source": [
    "We can display the key in the `FacemapPoseEstimationTask` table to confirm it was inserted."
   ]
  },
  {
   "cell_type": "code",
   "execution_count": 40,
   "metadata": {},
   "outputs": [
    {
     "data": {
      "text/html": [
       "\n",
       "    \n",
       "    <style type=\"text/css\">\n",
       "        .Table{\n",
       "            border-collapse:collapse;\n",
       "        }\n",
       "        .Table th{\n",
       "            background: #A0A0A0; color: #ffffff; padding:4px; border:#f0e0e0 1px solid;\n",
       "            font-weight: normal; font-family: monospace; font-size: 100%;\n",
       "        }\n",
       "        .Table td{\n",
       "            padding:4px; border:#f0e0e0 1px solid; font-size:100%;\n",
       "        }\n",
       "        .Table tr:nth-child(odd){\n",
       "            background: #ffffff;\n",
       "            color: #000000;\n",
       "        }\n",
       "        .Table tr:nth-child(even){\n",
       "            background: #f3f1ff;\n",
       "            color: #000000;\n",
       "        }\n",
       "        /* Tooltip container */\n",
       "        .djtooltip {\n",
       "        }\n",
       "        /* Tooltip text */\n",
       "        .djtooltip .djtooltiptext {\n",
       "            visibility: hidden;\n",
       "            width: 120px;\n",
       "            background-color: black;\n",
       "            color: #fff;\n",
       "            text-align: center;\n",
       "            padding: 5px 0;\n",
       "            border-radius: 6px;\n",
       "            /* Position the tooltip text - see examples below! */\n",
       "            position: absolute;\n",
       "            z-index: 1;\n",
       "        }\n",
       "        #primary {\n",
       "            font-weight: bold;\n",
       "            color: black;\n",
       "        }\n",
       "        #nonprimary {\n",
       "            font-weight: normal;\n",
       "            color: white;\n",
       "        }\n",
       "\n",
       "        /* Show the tooltip text when you mouse over the tooltip container */\n",
       "        .djtooltip:hover .djtooltiptext {\n",
       "            visibility: visible;\n",
       "        }\n",
       "    </style>\n",
       "    \n",
       "    <b>Staging table for pairing of recording and Facemap parameters before processing.</b>\n",
       "        <div style=\"max-height:1000px;max-width:1500px;overflow:auto;\">\n",
       "        <table border=\"1\" class=\"Table\">\n",
       "            <thead> <tr style=\"text-align: right;\"> <th> <div class=\"djtooltip\">\n",
       "                            <p id=\"primary\">subject</p>\n",
       "                            <span class=\"djtooltiptext\"></span>\n",
       "                        </div></th><th><div class=\"djtooltip\">\n",
       "                            <p id=\"primary\">session_datetime</p>\n",
       "                            <span class=\"djtooltiptext\"></span>\n",
       "                        </div></th><th><div class=\"djtooltip\">\n",
       "                            <p id=\"primary\">recording_id</p>\n",
       "                            <span class=\"djtooltiptext\"></span>\n",
       "                        </div></th><th><div class=\"djtooltip\">\n",
       "                            <p id=\"primary\">model_id</p>\n",
       "                            <span class=\"djtooltiptext\">user assigned ID associated with a unique model</span>\n",
       "                        </div></th><th><div class=\"djtooltip\">\n",
       "                            <p id=\"nonprimary\">pose_estimation_output_dir</p>\n",
       "                            <span class=\"djtooltiptext\">output dir - stores results of Facemap Pose estimation analysis</span>\n",
       "                        </div></th><th><div class=\"djtooltip\">\n",
       "                            <p id=\"nonprimary\">task_description</p>\n",
       "                            <span class=\"djtooltiptext\">Optional. Addtional task description</span>\n",
       "                        </div></th><th><div class=\"djtooltip\">\n",
       "                            <p id=\"nonprimary\">task_mode</p>\n",
       "                            <span class=\"djtooltiptext\"></span>\n",
       "                        </div></th><th><div class=\"djtooltip\">\n",
       "                            <p id=\"nonprimary\">bbox</p>\n",
       "                            <span class=\"djtooltiptext\">list containing bounding box for cropping the video [x1, x2, y1, y2]</span>\n",
       "                        </div> </th> </tr> </thead>\n",
       "            <tbody> <tr> <td>subject1</td>\n",
       "<td>2021-04-30 12:22:15</td>\n",
       "<td>0</td>\n",
       "<td>0</td>\n",
       "<td>outbox/subject0/session0/facemap_recordingid0_model1</td>\n",
       "<td>Facemap Inference Task, loads processed results</td>\n",
       "<td>load</td>\n",
       "<td>=BLOB=</td> </tr> </tbody>\n",
       "        </table>\n",
       "        \n",
       "        <p>Total: 1</p></div>\n",
       "        "
      ],
      "text/plain": [
       "*subject     *session_datet *recording_id  *model_id    pose_estimatio task_descripti task_mode     bbox      \n",
       "+----------+ +------------+ +------------+ +----------+ +------------+ +------------+ +-----------+ +--------+\n",
       "subject1     2021-04-30 12: 0              0            outbox/subject Facemap Infere load          =BLOB=    \n",
       " (Total: 1)"
      ]
     },
     "execution_count": 40,
     "metadata": {},
     "output_type": "execute_result"
    }
   ],
   "source": [
    "facemap_inference.FacemapPoseEstimationTask()"
   ]
  },
  {
   "cell_type": "markdown",
   "metadata": {},
   "source": [
    "Next we will ingest the results into `FacemapPoseEstimation` and its part table `FacemapPoseEstimation.BodyPartPosition` for the key that we just inserted into the `FacemapPoseEstimationTask`"
   ]
  },
  {
   "cell_type": "code",
   "execution_count": 41,
   "metadata": {},
   "outputs": [
    {
     "name": "stderr",
     "output_type": "stream",
     "text": [
      "FacemapPoseEstimation:   0%|          | 0/1 [00:00<?, ?it/s]\n"
     ]
    },
    {
     "ename": "PermissionError",
     "evalue": "[Errno 1] Operation not permitted: '/workspaces/element-facemap/example_data/outbox/subject0/session0/facemap_recordingid0_model1/cam1_G7c1_1.avi'",
     "output_type": "error",
     "traceback": [
      "\u001b[0;31m---------------------------------------------------------------------------\u001b[0m",
      "\u001b[0;31mPermissionError\u001b[0m                           Traceback (most recent call last)",
      "Cell \u001b[0;32mIn[41], line 1\u001b[0m\n\u001b[0;32m----> 1\u001b[0m facemap_inference\u001b[39m.\u001b[39;49mFacemapPoseEstimation\u001b[39m.\u001b[39;49mpopulate(display_progress\u001b[39m=\u001b[39;49m\u001b[39mTrue\u001b[39;49;00m)\n",
      "File \u001b[0;32m/usr/local/lib/python3.9/site-packages/datajoint/autopopulate.py:241\u001b[0m, in \u001b[0;36mAutoPopulate.populate\u001b[0;34m(self, suppress_errors, return_exception_objects, reserve_jobs, order, limit, max_calls, display_progress, processes, make_kwargs, *restrictions)\u001b[0m\n\u001b[1;32m    237\u001b[0m \u001b[39mif\u001b[39;00m processes \u001b[39m==\u001b[39m \u001b[39m1\u001b[39m:\n\u001b[1;32m    238\u001b[0m     \u001b[39mfor\u001b[39;00m key \u001b[39min\u001b[39;00m (\n\u001b[1;32m    239\u001b[0m         tqdm(keys, desc\u001b[39m=\u001b[39m\u001b[39mself\u001b[39m\u001b[39m.\u001b[39m\u001b[39m__class__\u001b[39m\u001b[39m.\u001b[39m\u001b[39m__name__\u001b[39m) \u001b[39mif\u001b[39;00m display_progress \u001b[39melse\u001b[39;00m keys\n\u001b[1;32m    240\u001b[0m     ):\n\u001b[0;32m--> 241\u001b[0m         error \u001b[39m=\u001b[39m \u001b[39mself\u001b[39;49m\u001b[39m.\u001b[39;49m_populate1(key, jobs, \u001b[39m*\u001b[39;49m\u001b[39m*\u001b[39;49mpopulate_kwargs)\n\u001b[1;32m    242\u001b[0m         \u001b[39mif\u001b[39;00m error \u001b[39mis\u001b[39;00m \u001b[39mnot\u001b[39;00m \u001b[39mNone\u001b[39;00m:\n\u001b[1;32m    243\u001b[0m             error_list\u001b[39m.\u001b[39mappend(error)\n",
      "File \u001b[0;32m/usr/local/lib/python3.9/site-packages/datajoint/autopopulate.py:292\u001b[0m, in \u001b[0;36mAutoPopulate._populate1\u001b[0;34m(self, key, jobs, suppress_errors, return_exception_objects, make_kwargs)\u001b[0m\n\u001b[1;32m    290\u001b[0m \u001b[39mself\u001b[39m\u001b[39m.\u001b[39m\u001b[39m__class__\u001b[39m\u001b[39m.\u001b[39m_allow_insert \u001b[39m=\u001b[39m \u001b[39mTrue\u001b[39;00m\n\u001b[1;32m    291\u001b[0m \u001b[39mtry\u001b[39;00m:\n\u001b[0;32m--> 292\u001b[0m     make(\u001b[39mdict\u001b[39;49m(key), \u001b[39m*\u001b[39;49m\u001b[39m*\u001b[39;49m(make_kwargs \u001b[39mor\u001b[39;49;00m {}))\n\u001b[1;32m    293\u001b[0m \u001b[39mexcept\u001b[39;00m (\u001b[39mKeyboardInterrupt\u001b[39;00m, \u001b[39mSystemExit\u001b[39;00m, \u001b[39mException\u001b[39;00m) \u001b[39mas\u001b[39;00m error:\n\u001b[1;32m    294\u001b[0m     \u001b[39mtry\u001b[39;00m:\n",
      "File \u001b[0;32m/workspaces/element-facemap/element_facemap/facemap_inference.py:357\u001b[0m, in \u001b[0;36mFacemapPoseEstimation.make\u001b[0;34m(self, key)\u001b[0m\n\u001b[1;32m    355\u001b[0m video_symlink \u001b[39m=\u001b[39m output_dir \u001b[39m/\u001b[39m video_file\u001b[39m.\u001b[39mname\n\u001b[1;32m    356\u001b[0m \u001b[39mif\u001b[39;00m video_symlink\u001b[39m.\u001b[39mexists():\n\u001b[0;32m--> 357\u001b[0m     video_symlink\u001b[39m.\u001b[39;49munlink()\n\u001b[1;32m    358\u001b[0m video_symlink\u001b[39m.\u001b[39msymlink_to(video_file)\n\u001b[1;32m    359\u001b[0m video_symlinks\u001b[39m.\u001b[39mappend(video_symlink\u001b[39m.\u001b[39mas_posix())\n",
      "File \u001b[0;32m/usr/local/lib/python3.9/pathlib.py:1354\u001b[0m, in \u001b[0;36mPath.unlink\u001b[0;34m(self, missing_ok)\u001b[0m\n\u001b[1;32m   1349\u001b[0m \u001b[39m\u001b[39m\u001b[39m\"\"\"\u001b[39;00m\n\u001b[1;32m   1350\u001b[0m \u001b[39mRemove this file or link.\u001b[39;00m\n\u001b[1;32m   1351\u001b[0m \u001b[39mIf the path is a directory, use rmdir() instead.\u001b[39;00m\n\u001b[1;32m   1352\u001b[0m \u001b[39m\"\"\"\u001b[39;00m\n\u001b[1;32m   1353\u001b[0m \u001b[39mtry\u001b[39;00m:\n\u001b[0;32m-> 1354\u001b[0m     \u001b[39mself\u001b[39;49m\u001b[39m.\u001b[39;49m_accessor\u001b[39m.\u001b[39;49munlink(\u001b[39mself\u001b[39;49m)\n\u001b[1;32m   1355\u001b[0m \u001b[39mexcept\u001b[39;00m \u001b[39mFileNotFoundError\u001b[39;00m:\n\u001b[1;32m   1356\u001b[0m     \u001b[39mif\u001b[39;00m \u001b[39mnot\u001b[39;00m missing_ok:\n",
      "\u001b[0;31mPermissionError\u001b[0m: [Errno 1] Operation not permitted: '/workspaces/element-facemap/example_data/outbox/subject0/session0/facemap_recordingid0_model1/cam1_G7c1_1.avi'"
     ]
    }
   ],
   "source": [
    "facemap_inference.FacemapPoseEstimation.populate(display_progress=True)"
   ]
  },
  {
   "cell_type": "markdown",
   "metadata": {},
   "source": [
    "Once the cell above has completed run the next cells to display the `FacemapPoseEstimation` tables"
   ]
  },
  {
   "cell_type": "code",
   "execution_count": null,
   "metadata": {},
   "outputs": [],
   "source": [
    "facemap_inference.FacemapPoseEstimation()"
   ]
  },
  {
   "cell_type": "code",
   "execution_count": null,
   "metadata": {},
   "outputs": [],
   "source": [
    "facemap_inference.FacemapPoseEstimation.BodyPartPosition()"
   ]
  },
  {
   "cell_type": "markdown",
   "metadata": {},
   "source": [
    "### **Visualize the results**\n",
    "In this tutorial, we will do some exploratory analysis by fetching the data from the database and creating a few plots."
   ]
  },
  {
   "cell_type": "code",
   "execution_count": null,
   "metadata": {},
   "outputs": [],
   "source": [
    "pe_query = {**session_key, \"recording_id\": 0, \"model_id\": 0}\n",
    "pose_estimation_key = (facemap_inference.FacemapPoseEstimation & pe_query).fetch1(\"KEY\")"
   ]
  },
  {
   "cell_type": "markdown",
   "metadata": {},
   "source": [
    "Get Trajectory of X and Y coordinates"
   ]
  },
  {
   "cell_type": "code",
   "execution_count": null,
   "metadata": {},
   "outputs": [],
   "source": [
    "# Specify all body parts, or set body_parts to a custom list\n",
    "body_parts = \"all\"\n",
    "model_name = (facemap_inference.FacemapModel & f'model_id={key[\"model_id\"]}').fetch1(\n",
    "    \"model_name\"\n",
    ")\n",
    "\n",
    "if body_parts == \"all\":\n",
    "    body_parts = (facemap_inference.FacemapPoseEstimation.BodyPartPosition & key).fetch(\n",
    "        \"body_part\"\n",
    "    )\n",
    "elif not isinstance(body_parts, list):\n",
    "    body_parts = list(body_parts)"
   ]
  },
  {
   "cell_type": "code",
   "execution_count": null,
   "metadata": {},
   "outputs": [],
   "source": [
    "# Construct Pandas MultiIndex DataFrame\n",
    "df = None\n",
    "for body_part in body_parts:\n",
    "    result_dict = (\n",
    "        facemap_inference.FacemapPoseEstimation.BodyPartPosition\n",
    "        & {\"body_part\": body_part}\n",
    "        & {\"recording_id\": key[\"recording_id\"]}\n",
    "        & {\"session_id\": key[\"session_id\"]}\n",
    "    ).fetch(\"x_pos\", \"y_pos\", \"likelihood\", as_dict=True)[0]\n",
    "    x_pos = result_dict[\"x_pos\"].tolist()\n",
    "    y_pos = result_dict[\"y_pos\"].tolist()\n",
    "    likelihood = result_dict[\"likelihood\"].tolist()\n",
    "    a = np.vstack((x_pos, y_pos, likelihood))\n",
    "    a = a.T\n",
    "    pdindex = pd.MultiIndex.from_product(\n",
    "        [[model_name], [body_part], [\"x\", \"y\", \"likelihood\"]],\n",
    "        names=[\"model\", \"bodyparts\", \"coords\"],\n",
    "    )\n",
    "    frame = pd.DataFrame(a, columns=pdindex, index=range(0, a.shape[0]))\n",
    "    df = pd.concat([df, frame], axis=1)\n",
    "df"
   ]
  },
  {
   "cell_type": "code",
   "execution_count": null,
   "metadata": {},
   "outputs": [],
   "source": [
    "df_xy = df.iloc[:, df.columns.get_level_values(2).isin([\"x\", \"y\"])][\n",
    "    \"facemap_model_state.pt\"\n",
    "]\n",
    "df_xy.mean()"
   ]
  },
  {
   "cell_type": "markdown",
   "metadata": {},
   "source": [
    "Plot coordinates across time for each body part"
   ]
  },
  {
   "cell_type": "code",
   "execution_count": null,
   "metadata": {},
   "outputs": [],
   "source": [
    "df_xy.plot().legend(loc=\"best\", prop={\"size\": 5})"
   ]
  },
  {
   "cell_type": "code",
   "execution_count": null,
   "metadata": {},
   "outputs": [],
   "source": [
    "df_flat = df_xy.copy()\n",
    "df_flat.columns = df_flat.columns.map(\"_\".join)"
   ]
  },
  {
   "cell_type": "markdown",
   "metadata": {},
   "source": [
    "Plot Trace Overlays of each body part across time"
   ]
  },
  {
   "cell_type": "code",
   "execution_count": null,
   "metadata": {},
   "outputs": [],
   "source": [
    "fig, ax = plt.subplots(2, 2)\n",
    "fig.set_figwidth(20)\n",
    "fig.set_figheight(15)\n",
    "\n",
    "df_flat.plot(x=\"eye(front)_x\", y=\"eye(front)_y\", ax=ax[0, 0])\n",
    "df_flat.plot(x=\"eye(back)_x\", y=\"eye(back)_y\", ax=ax[0, 0])\n",
    "df_flat.plot(x=\"eye(bottom)_x\", y=\"eye(bottom)_y\", ax=ax[0, 0])\n",
    "\n",
    "df_flat.plot(x=\"nose(tip)_x\", y=\"nose(tip)_y\", ax=ax[1, 0])\n",
    "df_flat.plot(x=\"nose(bottom)_x\", y=\"nose(bottom)_y\", ax=ax[1, 0])\n",
    "df_flat.plot(x=\"nose(r)_x\", y=\"nose(r)_y\", ax=ax[1, 0])\n",
    "df_flat.plot(x=\"nosebridge_x\", y=\"nosebridge_y\", ax=ax[1, 0])\n",
    "\n",
    "df_flat.plot(x=\"mouth_x\", y=\"mouth_y\", ax=ax[0, 1])\n",
    "df_flat.plot(x=\"lowerlip_x\", y=\"lowerlip_y\", ax=ax[0, 1])\n",
    "df_flat.plot(x=\"paw_x\", y=\"paw_y\", ax=ax[0, 1])\n",
    "\n",
    "df_flat.plot(x=\"whisker(I)_x\", y=\"whisker(I)_y\", ax=ax[1, 1])\n",
    "df_flat.plot(x=\"whisker(II)_x\", y=\"whisker(II)_y\", ax=ax[1, 1])\n",
    "df_flat.plot(x=\"whisker(II)_x\", y=\"whisker(II)_y\", ax=ax[1, 1])"
   ]
  },
  {
   "cell_type": "markdown",
   "metadata": {},
   "source": [
    "### **Visualize Keypoints Data**"
   ]
  },
  {
   "cell_type": "code",
   "execution_count": null,
   "metadata": {},
   "outputs": [],
   "source": [
    "from matplotlib import cm\n",
    "\n",
    "colors = cm.get_cmap(\"jet\")(np.linspace(0, 1.0, len(body_parts)))"
   ]
  },
  {
   "cell_type": "markdown",
   "metadata": {},
   "source": [
    "Display the x and y coordinates stored in the `BodyPartPosition` table, for the `pose_estimation_key` of interest"
   ]
  },
  {
   "cell_type": "code",
   "execution_count": null,
   "metadata": {},
   "outputs": [],
   "source": [
    "(facemap_inference.FacemapPoseEstimation.BodyPartPosition & pose_estimation_key)"
   ]
  },
  {
   "cell_type": "markdown",
   "metadata": {},
   "source": [
    "Fetch the keypoints_data from the database as a dictionary in order to index and reshape it."
   ]
  },
  {
   "cell_type": "code",
   "execution_count": null,
   "metadata": {},
   "outputs": [],
   "source": [
    "keypoints_data = (\n",
    "    facemap_inference.FacemapPoseEstimation.BodyPartPosition & pose_estimation_key\n",
    ").fetch(as_dict=True)"
   ]
  },
  {
   "cell_type": "code",
   "execution_count": null,
   "metadata": {},
   "outputs": [],
   "source": [
    "pose_x_coord = []\n",
    "pose_y_coord = []\n",
    "pose_likelihood = []\n",
    "for body_part_data in keypoints_data:\n",
    "    pose_x_coord.append(body_part_data[\"x_pos\"][:])\n",
    "    pose_y_coord.append(body_part_data[\"y_pos\"][:])\n",
    "    pose_likelihood.append(body_part_data[\"likelihood\"][:])\n",
    "\n",
    "pose_x_coord = np.array([pose_x_coord])  # size: key points x frames\n",
    "pose_y_coord = np.array([pose_y_coord])  # size: key points x frames\n",
    "pose_likelihood = np.array([pose_likelihood])  # size: key points x frames\n",
    "pose_data = np.concatenate(\n",
    "    (pose_x_coord, pose_y_coord, pose_likelihood), axis=0\n",
    ")  # size: 3 x key points x frames\n",
    "pose_x_coord = pose_data[0, :, :]\n",
    "pose_y_coord = pose_data[1, :, :]\n",
    "pose_liklihood = pose_data[2, :, :]"
   ]
  },
  {
   "cell_type": "markdown",
   "metadata": {},
   "source": [
    "Plot keypoints for a subset of frames"
   ]
  },
  {
   "cell_type": "code",
   "execution_count": null,
   "metadata": {},
   "outputs": [],
   "source": [
    "start_frame = 100\n",
    "end_frame = 500\n",
    "\n",
    "plt.figure(figsize=(15, 5), dpi=100)\n",
    "for i, bodypart in enumerate(body_parts):\n",
    "    plt.plot(\n",
    "        np.arange(start_frame, end_frame),\n",
    "        pose_x_coord[i, start_frame:end_frame],\n",
    "        \"-\",\n",
    "        c=colors[i],\n",
    "        label=bodypart,\n",
    "    )\n",
    "    plt.plot(\n",
    "        np.arange(start_frame, end_frame),\n",
    "        pose_y_coord[i, start_frame:end_frame],\n",
    "        \"--\",\n",
    "        c=colors[i],\n",
    "    )\n",
    "plt.xlabel(\"Frame\")\n",
    "plt.ylabel(\"Keypoint coordinates\")\n",
    "plt.legend(bbox_to_anchor=(1.05, 1), loc=\"upper left\", borderaxespad=0.0)\n",
    "plt.show()"
   ]
  },
  {
   "cell_type": "markdown",
   "metadata": {},
   "source": [
    "Plot a subset of bodypart keypoints for a subset of frames"
   ]
  },
  {
   "cell_type": "code",
   "execution_count": null,
   "metadata": {},
   "outputs": [],
   "source": [
    "subset_bodyparts = [\"whisker(I)\", \"whisker(II)\", \"whisker(III)\"]\n",
    "start_frame = 100\n",
    "end_frame = 500\n",
    "\n",
    "plt.figure(figsize=(15, 5), dpi=100)\n",
    "for i, bodypart in enumerate(body_parts):\n",
    "    if bodypart in subset_bodyparts:\n",
    "        plt.plot(\n",
    "            np.arange(start_frame, end_frame),\n",
    "            pose_x_coord[i, start_frame:end_frame],\n",
    "            \"-\",\n",
    "            c=colors[i],\n",
    "            label=bodypart,\n",
    "        )\n",
    "        plt.plot(\n",
    "            np.arange(start_frame, end_frame),\n",
    "            pose_y_coord[i, start_frame:end_frame],\n",
    "            \"--\",\n",
    "            c=colors[i],\n",
    "        )\n",
    "plt.xlabel(\"Frame\")\n",
    "plt.ylabel(\"Keypoint coordinates\")\n",
    "plt.legend(bbox_to_anchor=(1.05, 1), loc=\"upper left\", borderaxespad=0.0)\n",
    "plt.show()"
   ]
  },
  {
   "cell_type": "markdown",
   "metadata": {},
   "source": [
    "#### Filter keypoints data by confidence"
   ]
  },
  {
   "cell_type": "markdown",
   "metadata": {},
   "source": [
    "Use Facemap's `filter_outliers` function to remove outliers by applying a median filter to the keypoints data."
   ]
  },
  {
   "cell_type": "code",
   "execution_count": null,
   "metadata": {},
   "outputs": [],
   "source": [
    "from facemap.utils import filter_outliers\n",
    "\n",
    "# Use the following function to filter outliers in the keypoints data (see docstring for details)\n",
    "\"\"\"\n",
    "utils.filter_outliers(x, y, filter_window=15, baseline_window=50, max_spike=25, max_diff=25)\n",
    "x: x coordinates of keypoints\n",
    "y: y coordinates of keypoints\n",
    "filter_window: window size for median filter (default: 15)\n",
    "baseline_window: window size for baseline estimation (default: 50)\n",
    "max_spike: maximum spike size (default: 25)\n",
    "max_diff: maximum difference between baseline and filtered signal (default: 25)\n",
    "\"\"\"\n",
    "\n",
    "plt.figure(figsize=(15, 5), dpi=100)\n",
    "for i, bodypart in enumerate(body_parts):\n",
    "    if bodypart in subset_bodyparts:\n",
    "        x, y = filter_outliers(pose_x_coord[i], pose_y_coord[i])\n",
    "        plt.plot(\n",
    "            np.arange(start_frame, end_frame),\n",
    "            x[start_frame:end_frame],\n",
    "            \"-\",\n",
    "            c=colors[i],\n",
    "            label=bodypart,\n",
    "        )\n",
    "        plt.plot(\n",
    "            np.arange(start_frame, end_frame),\n",
    "            y[start_frame:end_frame],\n",
    "            \"--\",\n",
    "            c=colors[i],\n",
    "        )\n",
    "plt.xlabel(\"Frame\")\n",
    "plt.ylabel(\"Keypoint coordinates\")\n",
    "plt.legend(bbox_to_anchor=(1.05, 1), loc=\"upper left\", borderaxespad=0.0)\n",
    "plt.title(\"Filtered keypoints\")\n",
    "plt.show()"
   ]
  }
 ],
 "metadata": {
  "kernelspec": {
   "display_name": "Python 3",
   "language": "python",
   "name": "python3"
  },
  "language_info": {
   "codemirror_mode": {
    "name": "ipython",
    "version": 3
   },
   "file_extension": ".py",
   "mimetype": "text/x-python",
   "name": "python",
   "nbconvert_exporter": "python",
   "pygments_lexer": "ipython3",
   "version": "3.9.17"
  },
  "orig_nbformat": 4
 },
 "nbformat": 4,
 "nbformat_minor": 2
}
